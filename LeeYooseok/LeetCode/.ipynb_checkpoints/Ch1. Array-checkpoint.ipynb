{
 "cells": [
  {
   "cell_type": "markdown",
   "id": "c2fccc03",
   "metadata": {},
   "source": [
    "### Max Consecutive Ones\n",
    "\n",
    "- Given a binary array nums, return the maximum number of consecutive 1's in the array.\n",
    "- 이진수 배열 nums가 주어지면, 배열에서 연속 1의 최대 수를 반환합니다.\n",
    "\n",
    "- Example\n",
    "```python\n",
    "Input : nums = [1,0,1,1,0,1]\n",
    "Output : 2\n",
    "```\n"
   ]
  },
  {
   "cell_type": "markdown",
   "id": "6d21b420",
   "metadata": {},
   "source": [
    "**아이디어**\n",
    "- 반복문 사용하여 1 개수 세기\n",
    "    - 변수에 최대값 담아서 0 만났을때 비교"
   ]
  },
  {
   "cell_type": "code",
   "execution_count": 3,
   "id": "046c94cc",
   "metadata": {},
   "outputs": [
    {
     "data": {
      "text/plain": [
       "3"
      ]
     },
     "execution_count": 3,
     "metadata": {},
     "output_type": "execute_result"
    }
   ],
   "source": [
    "def findMaxConsecutiveOnes(nums):\n",
    "    ans = 0\n",
    "    temp = 0\n",
    "    for n in nums:\n",
    "        if n == 1:\n",
    "            temp += 1\n",
    "            ans = max(ans, temp)\n",
    "        else:\n",
    "            temp = 0\n",
    "        \n",
    "\n",
    "    return ans\n",
    "\n",
    "findMaxConsecutiveOnes([1,1,0,1,1,1])"
   ]
  },
  {
   "cell_type": "markdown",
   "id": "9f947125",
   "metadata": {},
   "source": [
    "### Find Numbers with Even Number of Digits\n",
    "- Given an array nums of integers, return how many of them contain an even number of digits.\n",
    "- 주어진 정수 배열에 대해서, 길이가 짝수인 정수의 개수 반환\n",
    "\n",
    "- Example\n",
    "```python\n",
    "Input : nums = [12,345,2,6,7896]\n",
    "Output : 2\n",
    "```"
   ]
  },
  {
   "cell_type": "code",
   "execution_count": 5,
   "id": "5a9ccc57",
   "metadata": {},
   "outputs": [
    {
     "data": {
      "text/plain": [
       "2"
      ]
     },
     "execution_count": 5,
     "metadata": {},
     "output_type": "execute_result"
    }
   ],
   "source": [
    "def findNumbers(nums):\n",
    "    ans = 0\n",
    "    for n in nums:\n",
    "        if len(str(n)) % 2 == 0:\n",
    "            ans += 1\n",
    "    \n",
    "    return ans\n",
    "\n",
    "findNumbers([12,345,2,6,7896])"
   ]
  },
  {
   "cell_type": "markdown",
   "id": "9ffa3551",
   "metadata": {},
   "source": [
    "### Squares of a Sorted Array\n",
    "- Given an integer array nums sorted in non-decreasing order, return an array of the squares of each number sorted in non-decreasing order.\n",
    "- 주어진 오름차순 배열에 대해서, 각 수에 대한 제곱수 오름차순 배열을 반환해서\n",
    "\n",
    "- Example\n",
    "```python\n",
    "Input: nums = [-4,-1,0,3,10]\n",
    "Output: [0,1,9,16,100]\n",
    "```"
   ]
  },
  {
   "cell_type": "code",
   "execution_count": 13,
   "id": "ad619372",
   "metadata": {},
   "outputs": [
    {
     "data": {
      "text/plain": [
       "[0, 1, 9, 16, 100]"
      ]
     },
     "execution_count": 13,
     "metadata": {},
     "output_type": "execute_result"
    }
   ],
   "source": [
    "def sortedSquares(nums):\n",
    "    nums = list(map(abs, nums))\n",
    "    nums.sort()\n",
    "    nums = list(map(lambda x: x ** 2, nums))\n",
    "    \n",
    "    return nums\n",
    "\n",
    "sortedSquares([-4,-1,0,3,10])"
   ]
  },
  {
   "cell_type": "markdown",
   "id": "d83c8c1e",
   "metadata": {},
   "source": [
    "### Duplicate Zeros\n",
    "\n",
    "- Given a fixed-length integer array arr, duplicate each occurrence of zero, shifting the remaining elements to the right.\n",
    "- 고정 길이 배열에 대해서, 0을 복제 시키고, 숫자를 오른쪽으로 이동시켜라\n",
    "- Example\n",
    "```python\n",
    "Input: arr = [1,0,2,3,0,4,5,0]\n",
    "Output: [1,0,0,2,3,0,0,4]\n",
    "```\n"
   ]
  },
  {
   "cell_type": "code",
   "execution_count": 17,
   "id": "52201d5b",
   "metadata": {},
   "outputs": [
    {
     "data": {
      "text/plain": [
       "[1, 0, 0, 2, 3, 0, 0, 4]"
      ]
     },
     "execution_count": 17,
     "metadata": {},
     "output_type": "execute_result"
    }
   ],
   "source": [
    "def duplicateZeros(arr):\n",
    "    zeros = list()\n",
    "    \n",
    "    for i in arr:\n",
    "        zeros.append(i)\n",
    "        if i == 0:\n",
    "            zeros.append(i)\n",
    "    \n",
    "    arr[:] = zeros[:len(arr)]\n",
    "        \n",
    "    return arr\n",
    "\n",
    "duplicateZeros([1,0,2,3,0,4,5,0])"
   ]
  },
  {
   "cell_type": "markdown",
   "id": "275ce1bf",
   "metadata": {},
   "source": [
    "### Merge Sorted Array\n",
    "- You are given two integer arrays nums1 and nums2, sorted in non-decreasing order, and two integers m and n, representing the number of elements in nums1 and nums2 respectively.\n",
    "- Merge nums1 and nums2 into a single array sorted in non-decreasing order.\n",
    "- 오름차순으로 정렬된 두 배열을 합쳐서 오름차순으로 정렬하여라, m,n은 두 배열의 요소 개수 이다.\n",
    "- Example\n",
    "\n",
    "Input: nums1 = [1,2,3,0,0,0], m = 3, nums2 = [2,5,6], n = 3\n",
    "\n",
    "Output: [1,2,2,3,5,6]"
   ]
  },
  {
   "cell_type": "code",
   "execution_count": 30,
   "id": "92ff29e9",
   "metadata": {},
   "outputs": [
    {
     "data": {
      "text/plain": [
       "[1, 2, 2, 3, 5, 6]"
      ]
     },
     "execution_count": 30,
     "metadata": {},
     "output_type": "execute_result"
    }
   ],
   "source": [
    "def merge(nums1, m, nums2, n):\n",
    "    # nums1에서 비어있는 자리 수 빼기\n",
    "    nums1[:] = nums1[:m]\n",
    "    \n",
    "    # merge sort 시행\n",
    "    result = list()\n",
    "    l=h=0\n",
    "    while l < m and h < n:\n",
    "        if nums1[l] < nums2[h]:\n",
    "            result.append(nums1[l])\n",
    "            l += 1\n",
    "        else:\n",
    "            result.append(nums2[h])\n",
    "            h += 1\n",
    "    result += nums1[l:]\n",
    "    result += nums2[h:]\n",
    "    \n",
    "    nums1[:] = result\n",
    "    return nums1\n",
    "\n",
    "merge([1,2,3,0,0,0], 3, [2,5,6], 3)"
   ]
  },
  {
   "cell_type": "code",
   "execution_count": 31,
   "id": "511f8dac",
   "metadata": {},
   "outputs": [
    {
     "data": {
      "text/plain": [
       "[1]"
      ]
     },
     "execution_count": 31,
     "metadata": {},
     "output_type": "execute_result"
    }
   ],
   "source": [
    "merge([1],1,[],0)"
   ]
  },
  {
   "cell_type": "markdown",
   "id": "cf0a06cf",
   "metadata": {},
   "source": [
    "### Remove Element\n",
    "- Given an integer array nums and an integer val, remove all occurrences of val in nums in-place. The relative order of the elements may be changed.\n",
    "\n",
    "- Since it is impossible to change the length of the array in some languages, you must instead have the result be placed in the first part of the array nums. More formally, if there are k elements after removing the duplicates, then the first k elements of nums should hold the final result. It does not matter what you leave beyond the first k elements.\n",
    "\n",
    "- Return k after placing the final result in the first k slots of nums.\n",
    "\n",
    "- Do not allocate extra space for another array. You must do this by modifying the input array in-place with O(1) extra memory.\n",
    "\n",
    "- 주어진 배열에 대해서, 숫자 val 를 제거하고 남은 숫자 개수를 반환\n",
    "\n",
    "- Example\n",
    "~~~python\n",
    "Input: nums = [3,2,2,3], val = 3\n",
    "Output: 2, nums = [2,2,_,_]\n",
    "    ~~~"
   ]
  },
  {
   "cell_type": "code",
   "execution_count": 42,
   "id": "0f65114f",
   "metadata": {},
   "outputs": [
    {
     "data": {
      "text/plain": [
       "2"
      ]
     },
     "execution_count": 42,
     "metadata": {},
     "output_type": "execute_result"
    }
   ],
   "source": [
    "def removeElement(nums, val):\n",
    "    while nums.count(val) != 0:\n",
    "        nums.remove(val)\n",
    "    return len(nums)\n",
    "    \n",
    "removeElement([3,2,2,3], 3)"
   ]
  },
  {
   "cell_type": "code",
   "execution_count": 43,
   "id": "c99f4434",
   "metadata": {
    "scrolled": true
   },
   "outputs": [
    {
     "data": {
      "text/plain": [
       "5"
      ]
     },
     "execution_count": 43,
     "metadata": {},
     "output_type": "execute_result"
    }
   ],
   "source": [
    "removeElement([0,1,2,2,3,0,4,2], 2)"
   ]
  },
  {
   "cell_type": "markdown",
   "id": "d20b1bc3",
   "metadata": {},
   "source": [
    "### Remove Duplicates from Sorted Array\n",
    "- Given an integer array nums sorted in non-decreasing order, remove the duplicates in-place such that each unique element appears only once. The relative order of the elements should be kept the same.\n",
    "\n",
    "- Since it is impossible to change the length of the array in some languages, you must instead have the result be placed in the first part of the array nums. More formally, if there are k elements after removing the duplicates, then the first k elements of nums should hold the final result. It does not matter what you leave beyond the first k elements.\n",
    "\n",
    "- Return k after placing the final result in the first k slots of nums.\n",
    "\n",
    "- Do not allocate extra space for another array. You must do this by modifying the input array in-place with O(1) extra memory.\n",
    "- 주어진 오름차순 정수 배열에 대하여, 중복된 수를 제거하여라. 그 후, 배열 길이 반환\n",
    "- Example\n",
    "```python\n",
    "Input: nums = [0,0,1,1,1,2,2,3,3,4]\n",
    "Output: 5, nums = [0,1,2,3,4,_,_,_,_,_]\n",
    "    ```"
   ]
  },
  {
   "cell_type": "code",
   "execution_count": 47,
   "id": "51b2cb80",
   "metadata": {},
   "outputs": [
    {
     "data": {
      "text/plain": [
       "5"
      ]
     },
     "execution_count": 47,
     "metadata": {},
     "output_type": "execute_result"
    }
   ],
   "source": [
    "def removeDuplicates(nums):\n",
    "    nums[:] = list(set(nums))\n",
    "    nums.sort()\n",
    "    return len(nums)\n",
    "\n",
    "removeDuplicates([0,0,1,1,1,2,2,3,3,4])"
   ]
  },
  {
   "cell_type": "code",
   "execution_count": 49,
   "id": "d32cc058",
   "metadata": {},
   "outputs": [
    {
     "data": {
      "text/plain": [
       "5"
      ]
     },
     "execution_count": 49,
     "metadata": {},
     "output_type": "execute_result"
    }
   ],
   "source": [
    "def removeDuplicates2(nums):\n",
    "    result = list()\n",
    "    \n",
    "    for n in nums:\n",
    "        if result.count(n) == 0:\n",
    "            result.append(n)\n",
    "        \n",
    "    nums[:] = result\n",
    "    return len(nums)\n",
    "\n",
    "removeDuplicates2([0,0,1,1,1,2,2,3,3,4])"
   ]
  },
  {
   "cell_type": "markdown",
   "id": "ca7afdae",
   "metadata": {},
   "source": [
    "### Check If N and Its Double Exist\n",
    "\n",
    "- Given an array arr of integers, check if there exists two integers N and M such that N is the double of M ( i.e. N = 2 * M).\n",
    "- 주어진 정수 배열에 대해서, 다음과 같은 N, M이 있는지 확인 하여라 (N = 2 * M)\n",
    "\n",
    "- Example\n",
    "```python\n",
    "Input: arr = [7,1,14,11]\n",
    "Output: true\n",
    "    ```"
   ]
  },
  {
   "cell_type": "code",
   "execution_count": 4,
   "id": "6edcf61c",
   "metadata": {},
   "outputs": [
    {
     "data": {
      "text/plain": [
       "True"
      ]
     },
     "execution_count": 4,
     "metadata": {},
     "output_type": "execute_result"
    }
   ],
   "source": [
    "def checkIfExist(arr):\n",
    "    for i in range(len(arr)):\n",
    "        for j in range(len(arr)):\n",
    "            if arr[i] == arr[j] * 2 and i != j:\n",
    "                return True\n",
    "    \n",
    "    return False\n",
    "\n",
    "checkIfExist([7,1,14,11])"
   ]
  },
  {
   "cell_type": "code",
   "execution_count": 5,
   "id": "adb2df57",
   "metadata": {},
   "outputs": [
    {
     "data": {
      "text/plain": [
       "False"
      ]
     },
     "execution_count": 5,
     "metadata": {},
     "output_type": "execute_result"
    }
   ],
   "source": [
    "checkIfExist([-2, 0, 10, -19, 4, 6, -8])"
   ]
  },
  {
   "cell_type": "code",
   "execution_count": 6,
   "id": "f7bc3d3b",
   "metadata": {},
   "outputs": [
    {
     "data": {
      "text/plain": [
       "True"
      ]
     },
     "execution_count": 6,
     "metadata": {},
     "output_type": "execute_result"
    }
   ],
   "source": [
    "checkIfExist([0,0])"
   ]
  },
  {
   "cell_type": "markdown",
   "id": "6844011d",
   "metadata": {},
   "source": [
    "### Valid Mountain Array\n",
    "\n",
    "- Given an array of integers arr, return true if and only if it is a valid mountain array.\n",
    "- Recall that arr is a mountain array if and only if:\n",
    "    - arr,length >= 3\n",
    "    - There exists some i with 0 < i < arr.length - 1 such that\n",
    "        - arr[0] < arr[1] < ... < arr[i-1] < arr[i]\n",
    "        - arr[i] > arr[i + 1] > ... > arr[arr.length - 1]\n",
    "\n",
    "- 주어진 정수 배열에 대해서, mountain array인지 확인 하여라\n",
    "- Example\n",
    "```python\n",
    "    Input : arr = [2,1]\n",
    "    Output : false\n",
    "```\n",
    "        "
   ]
  },
  {
   "cell_type": "code",
   "execution_count": 12,
   "id": "31ce6021",
   "metadata": {},
   "outputs": [
    {
     "data": {
      "text/plain": [
       "False"
      ]
     },
     "execution_count": 12,
     "metadata": {},
     "output_type": "execute_result"
    }
   ],
   "source": [
    "def validMountainArray(arr):\n",
    "    max_num = max(arr)\n",
    "    \n",
    "    # 최대값이 2개 이상이 면 return False\n",
    "    if arr.count(max_num) == 2:\n",
    "        return False\n",
    "    \n",
    "    max_index = arr.index(max_num)\n",
    "    \n",
    "    if max_index == 0 or max_index == len(arr)-1:\n",
    "        return False\n",
    "    \n",
    "    # 상승 확인\n",
    "    for i in range(len(arr[:max_index])):\n",
    "        if arr[i] >= arr[i+1]:\n",
    "            return False\n",
    "        \n",
    "    # 하락 확인\n",
    "    for i in range(len(arr[max_index:-1])):\n",
    "        if arr[max_index+i] <= arr[max_index+i+1]:\n",
    "            return False\n",
    "        \n",
    "    return True\n",
    "\n",
    "validMountainArray([2,1])"
   ]
  },
  {
   "cell_type": "markdown",
   "id": "481f34d1",
   "metadata": {},
   "source": [
    "### Replace Elements with Greatest Element on Right Side\n",
    "\n",
    "- Given an array arr, replace every element in that array with the greatest element among the elements to its right, and replace the last element with -1.\n",
    "\n",
    "- After doing so, return the array.\n",
    "\n",
    "- 주어진 배열에 대해서, 모든 요소를 해당 요소의 오른쪽 요소들 중 가장 큰 값으로 대체해라.\n",
    "- 마지막 요소는 -1 로 대체해라.\n",
    "\n",
    "```python\n",
    "    Input : arr = [17,18,5,4,6,1]\n",
    "    Output : [18,6,6,6,1,-1]\n",
    "```"
   ]
  },
  {
   "cell_type": "code",
   "execution_count": 13,
   "id": "20f0f7f8",
   "metadata": {},
   "outputs": [
    {
     "data": {
      "text/plain": [
       "[18, 6, 6, 6, 1, -1]"
      ]
     },
     "execution_count": 13,
     "metadata": {},
     "output_type": "execute_result"
    }
   ],
   "source": [
    "def replaceElements(arr):\n",
    "    for i in range(len(arr)-1):\n",
    "        arr[i] = max(arr[i+1:])\n",
    "        \n",
    "    arr[-1] = -1\n",
    "    \n",
    "    return arr\n",
    "\n",
    "replaceElements([17,18,5,4,6,1])"
   ]
  },
  {
   "cell_type": "markdown",
   "id": "36f5da59",
   "metadata": {},
   "source": [
    "### Move Zeroes\n",
    "- Given an integer array nums, move all 0's to the end of it while maintaining the relative order of the non-zero elements.\n",
    "\n",
    "- 주어진 정수 배열에 대해서, 배열의 모든 0을 마지막으로 옮겨라\n",
    "\n",
    "- Example\n",
    "```python\n",
    "    Input : nums [0,1,0,3,12]\n",
    "    Output : [1,3,12,0,0]\n",
    "```"
   ]
  },
  {
   "cell_type": "code",
   "execution_count": 18,
   "id": "35f26980",
   "metadata": {},
   "outputs": [
    {
     "data": {
      "text/plain": [
       "[1, 3, 12, 0, 0]"
      ]
     },
     "execution_count": 18,
     "metadata": {},
     "output_type": "execute_result"
    }
   ],
   "source": [
    "def moveZeroes(nums):\n",
    "    temp = 0\n",
    "    \n",
    "    for i in range(len(nums)):\n",
    "        if nums[i] != 0:\n",
    "            nums[temp] = nums[i]\n",
    "            temp += 1\n",
    "            \n",
    "    for i in range(len(nums[temp:])):\n",
    "        nums[temp+i] = 0 \n",
    "        \n",
    "    return nums\n",
    "    \n",
    "moveZeroes([0,1,0,3,12])"
   ]
  },
  {
   "cell_type": "markdown",
   "id": "54c8af36",
   "metadata": {},
   "source": [
    "### Sort Array By Parity\n",
    "\n",
    "- Given an integer array nums, move all the even integers at the beginning of the array followed by all the odd integers.\n",
    "\n",
    "- Return any array that satisfies this condition.\n",
    "- 주어진 정수 배열에 대해서, 모든 짝수 요소를 배열의 홀수 요소 앞으로 옮겨라\n",
    "- Example\n",
    "```python\n",
    "    Input : nums = [3,1,2,4]\n",
    "    Output : [2,4,3,1]\n",
    "```"
   ]
  },
  {
   "cell_type": "code",
   "execution_count": 20,
   "id": "d924e66b",
   "metadata": {},
   "outputs": [
    {
     "data": {
      "text/plain": [
       "[2, 4, 3, 1]"
      ]
     },
     "execution_count": 20,
     "metadata": {},
     "output_type": "execute_result"
    }
   ],
   "source": [
    "def sortArrayByParity(nums):\n",
    "    odds = list()\n",
    "    evens = list()\n",
    "    \n",
    "    for n in nums:\n",
    "        if n % 2 == 0:\n",
    "            evens.append(n)\n",
    "        else:\n",
    "            odds.append(n)\n",
    "            \n",
    "    evens.extend(odds)\n",
    "    \n",
    "    return evens\n",
    "\n",
    "sortArrayByParity([3,1,2,4])"
   ]
  },
  {
   "cell_type": "markdown",
   "id": "d0b627d4",
   "metadata": {},
   "source": [
    "### Height Checker\n",
    "\n",
    "- A school is trying to take an annual photo of all the students. The students are asked to stand in a single file line in **non-decreasing order** by height. Let this ordering be represented by the integer array expected where expected[i] is the expected height of the ith student in line.\n",
    "\n",
    "- You are given an integer array heights representing the current order that the students are standing in. Each heights[i] is the height of the ith student in line (0-indexed).\n",
    "\n",
    "- Return the number of indices where heights[i] != expected[i].\n",
    "\n",
    "- 키 순으로 오름차순으로 정렬\n",
    "- expected 리스트\n",
    "    - expected[i] = i 번째 학생의 expected height 순서\n",
    "\n",
    "- heights 리스트\n",
    "    - heights[i] = i 번째 학생의 현재 키 순서\n",
    "    \n",
    "- 위 heights[i] != expected[i]인 숫자 개수 반환\n",
    "\n",
    "- Example\n",
    "```python\n",
    "    Input : heights = [1,1,4,2,1,3]\n",
    "    Output : 3\n",
    "    Explanations:\n",
    "        heights : [1,1,4,2,1,3]\n",
    "        expected : [1,1,1,2,3,4]\n",
    "        Indices 2, 4, and 5 do not match.\n",
    "```"
   ]
  },
  {
   "cell_type": "code",
   "execution_count": 24,
   "id": "f813e1bd",
   "metadata": {},
   "outputs": [
    {
     "name": "stdout",
     "output_type": "stream",
     "text": [
      "[1, 1, 4, 2, 1, 3]\n",
      "[1, 1, 1, 2, 3, 4]\n"
     ]
    },
    {
     "data": {
      "text/plain": [
       "3"
      ]
     },
     "execution_count": 24,
     "metadata": {},
     "output_type": "execute_result"
    }
   ],
   "source": [
    "def heightChecker(heights):\n",
    "    expected = heights.copy()\n",
    "    heights.sort()\n",
    "    \n",
    "    ans = 0\n",
    "    \n",
    "    for i in range(len(heights)):\n",
    "        if expected[i] != heights[i]:\n",
    "            ans += 1\n",
    "            \n",
    "    return ans\n",
    "\n",
    "heightChecker([1,1,4,2,1,3])"
   ]
  },
  {
   "cell_type": "markdown",
   "id": "6c52df53",
   "metadata": {},
   "source": [
    "### Third Maximum Number\n",
    "\n",
    "- Given an integer array nums, return the third distinct maximum number in this array. If the third maximum does not exist, return the maximum number.\n",
    "- 주어진 정수 배열에 대해서, 세번째로 큰 수를 반환해라.\n",
    "- 만약 세번째 큰 수가 없을 시, 가장 큰 수를 반환해라.\n",
    "\n",
    "- Example\n",
    "```python\n",
    "    Input: nums = [3,2,1]\n",
    "    Output: 1\n",
    "```"
   ]
  },
  {
   "cell_type": "code",
   "execution_count": 29,
   "id": "43739c02",
   "metadata": {},
   "outputs": [
    {
     "data": {
      "text/plain": [
       "1"
      ]
     },
     "execution_count": 29,
     "metadata": {},
     "output_type": "execute_result"
    }
   ],
   "source": [
    "def thirdMax(nums):\n",
    "    nums.sort(reverse = True)\n",
    "    \n",
    "    max_num = nums[0]\n",
    "    temp = 1\n",
    "    \n",
    "    for i in nums[1:]:\n",
    "        if i < max_num:\n",
    "            max_num = i\n",
    "            temp += 1\n",
    "            \n",
    "        if temp == 3:\n",
    "            return max_num\n",
    "        \n",
    "    return nums[0]\n",
    "        \n",
    "thirdMax([3,2,1])"
   ]
  },
  {
   "cell_type": "markdown",
   "id": "c97177b0",
   "metadata": {},
   "source": [
    "### Find All Numbers Disappeared in an Array\n",
    "\n",
    "- Given an array nums of n integers where nums[i] is in the range [1, n], return an array of all the integers in the range [1, n] that do not appear in nums.\n",
    "\n",
    "- 주어진 n개의 [1,n] 범위내의 정수 배열에 대해서, [1,n] 범위 에서 없는 수들의 배열을 반환 해라\n",
    "\n",
    "- Example\n",
    "```python\n",
    "    Input : nums = [4,3,2,7,8,2,3,1]\n",
    "    Output : [5,6]\n",
    "```"
   ]
  },
  {
   "cell_type": "code",
   "execution_count": 31,
   "id": "913841ad",
   "metadata": {},
   "outputs": [
    {
     "name": "stdout",
     "output_type": "stream",
     "text": [
      "[4, 3, 2, -7, 8, 2, 3, 1]\n",
      "[4, 3, -2, -7, 8, 2, 3, 1]\n",
      "[4, -3, -2, -7, 8, 2, 3, 1]\n",
      "[4, -3, -2, -7, 8, 2, -3, 1]\n",
      "[4, -3, -2, -7, 8, 2, -3, -1]\n",
      "[4, -3, -2, -7, 8, 2, -3, -1]\n",
      "[4, -3, -2, -7, 8, 2, -3, -1]\n",
      "[-4, -3, -2, -7, 8, 2, -3, -1]\n"
     ]
    },
    {
     "data": {
      "text/plain": [
       "[5, 6]"
      ]
     },
     "execution_count": 31,
     "metadata": {},
     "output_type": "execute_result"
    }
   ],
   "source": [
    "def findDisappearedNumbers(nums):\n",
    "    for num in nums:\n",
    "        index = abs(num) - 1\n",
    "        nums[index] = -abs(nums[index])\n",
    "        \n",
    "        print(nums)\n",
    "            \n",
    "    return [i + 1 for i, num in enumerate(nums) if num > 0]\n",
    "\n",
    "findDisappearedNumbers([4,3,2,7,8,2,3,1])"
   ]
  }
 ],
 "metadata": {
  "kernelspec": {
   "display_name": "Python 3 (ipykernel)",
   "language": "python",
   "name": "python3"
  },
  "language_info": {
   "codemirror_mode": {
    "name": "ipython",
    "version": 3
   },
   "file_extension": ".py",
   "mimetype": "text/x-python",
   "name": "python",
   "nbconvert_exporter": "python",
   "pygments_lexer": "ipython3",
   "version": "3.9.7"
  }
 },
 "nbformat": 4,
 "nbformat_minor": 5
}
