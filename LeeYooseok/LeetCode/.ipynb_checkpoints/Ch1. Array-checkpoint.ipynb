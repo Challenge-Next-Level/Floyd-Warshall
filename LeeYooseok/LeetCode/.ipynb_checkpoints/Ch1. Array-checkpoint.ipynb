{
 "cells": [
  {
   "cell_type": "markdown",
   "id": "c2fccc03",
   "metadata": {},
   "source": [
    "### Max Consecutive Ones\n",
    "\n",
    "- Given a binary array nums, return the maximum number of consecutive 1's in the array.\n",
    "- 이진수 배열 nums가 주어지면, 배열에서 연속 1의 최대 수를 반환합니다.\n",
    "\n",
    "- Example\n",
    "```python\n",
    "Input : nums = [1,0,1,1,0,1]\n",
    "Output : 2\n",
    "```\n"
   ]
  },
  {
   "cell_type": "markdown",
   "id": "6d21b420",
   "metadata": {},
   "source": [
    "**아이디어**\n",
    "- 반복문 사용하여 1 개수 세기\n",
    "    - 변수에 최대값 담아서 0 만났을때 비교"
   ]
  },
  {
   "cell_type": "code",
   "execution_count": 3,
   "id": "046c94cc",
   "metadata": {},
   "outputs": [
    {
     "data": {
      "text/plain": [
       "3"
      ]
     },
     "execution_count": 3,
     "metadata": {},
     "output_type": "execute_result"
    }
   ],
   "source": [
    "def findMaxConsecutiveOnes(nums):\n",
    "    ans = 0\n",
    "    temp = 0\n",
    "    for n in nums:\n",
    "        if n == 1:\n",
    "            temp += 1\n",
    "            ans = max(ans, temp)\n",
    "        else:\n",
    "            temp = 0\n",
    "        \n",
    "\n",
    "    return ans\n",
    "\n",
    "findMaxConsecutiveOnes([1,1,0,1,1,1])"
   ]
  },
  {
   "cell_type": "markdown",
   "id": "9f947125",
   "metadata": {},
   "source": [
    "### Find Numbers with Even Number of Digits\n",
    "- Given an array nums of integers, return how many of them contain an even number of digits.\n",
    "- 주어진 정수 배열에 대해서, 길이가 짝수인 정수의 개수 반환\n",
    "\n",
    "- Example\n",
    "```python\n",
    "Input : nums = [12,345,2,6,7896]\n",
    "Output : 2\n",
    "```"
   ]
  },
  {
   "cell_type": "code",
   "execution_count": 5,
   "id": "5a9ccc57",
   "metadata": {},
   "outputs": [
    {
     "data": {
      "text/plain": [
       "2"
      ]
     },
     "execution_count": 5,
     "metadata": {},
     "output_type": "execute_result"
    }
   ],
   "source": [
    "def findNumbers(nums):\n",
    "    ans = 0\n",
    "    for n in nums:\n",
    "        if len(str(n)) % 2 == 0:\n",
    "            ans += 1\n",
    "    \n",
    "    return ans\n",
    "\n",
    "findNumbers([12,345,2,6,7896])"
   ]
  },
  {
   "cell_type": "markdown",
   "id": "9ffa3551",
   "metadata": {},
   "source": [
    "### Squares of a Sorted Array\n",
    "- Given an integer array nums sorted in non-decreasing order, return an array of the squares of each number sorted in non-decreasing order.\n",
    "- 주어진 오름차순 배열에 대해서, 각 수에 대한 제곱수 오름차순 배열을 반환해서\n",
    "\n",
    "- Example\n",
    "```python\n",
    "Input: nums = [-4,-1,0,3,10]\n",
    "Output: [0,1,9,16,100]\n",
    "```"
   ]
  },
  {
   "cell_type": "code",
   "execution_count": 13,
   "id": "ad619372",
   "metadata": {},
   "outputs": [
    {
     "data": {
      "text/plain": [
       "[0, 1, 9, 16, 100]"
      ]
     },
     "execution_count": 13,
     "metadata": {},
     "output_type": "execute_result"
    }
   ],
   "source": [
    "def sortedSquares(nums):\n",
    "    nums = list(map(abs, nums))\n",
    "    nums.sort()\n",
    "    nums = list(map(lambda x: x ** 2, nums))\n",
    "    \n",
    "    return nums\n",
    "\n",
    "sortedSquares([-4,-1,0,3,10])"
   ]
  },
  {
   "cell_type": "markdown",
   "id": "d83c8c1e",
   "metadata": {},
   "source": [
    "### Duplicate Zeros\n",
    "\n",
    "- Given a fixed-length integer array arr, duplicate each occurrence of zero, shifting the remaining elements to the right.\n",
    "- 고정 길이 배열에 대해서, 0을 복제 시키고, 숫자를 오른쪽으로 이동시켜라\n",
    "- Example\n",
    "```python\n",
    "Input: arr = [1,0,2,3,0,4,5,0]\n",
    "Output: [1,0,0,2,3,0,0,4]\n",
    "```\n"
   ]
  },
  {
   "cell_type": "code",
   "execution_count": 17,
   "id": "52201d5b",
   "metadata": {},
   "outputs": [
    {
     "data": {
      "text/plain": [
       "[1, 0, 0, 2, 3, 0, 0, 4]"
      ]
     },
     "execution_count": 17,
     "metadata": {},
     "output_type": "execute_result"
    }
   ],
   "source": [
    "def duplicateZeros(arr):\n",
    "    zeros = list()\n",
    "    \n",
    "    for i in arr:\n",
    "        zeros.append(i)\n",
    "        if i == 0:\n",
    "            zeros.append(i)\n",
    "    \n",
    "    arr[:] = zeros[:len(arr)]\n",
    "        \n",
    "    return arr\n",
    "\n",
    "duplicateZeros([1,0,2,3,0,4,5,0])"
   ]
  },
  {
   "cell_type": "markdown",
   "id": "275ce1bf",
   "metadata": {},
   "source": [
    "### Merge Sorted Array\n",
    "- You are given two integer arrays nums1 and nums2, sorted in non-decreasing order, and two integers m and n, representing the number of elements in nums1 and nums2 respectively.\n",
    "- Merge nums1 and nums2 into a single array sorted in non-decreasing order.\n",
    "- 오름차순으로 정렬된 두 배열을 합쳐서 오름차순으로 정렬하여라, m,n은 두 배열의 요소 개수 이다.\n",
    "- Example\n",
    "\n",
    "Input: nums1 = [1,2,3,0,0,0], m = 3, nums2 = [2,5,6], n = 3\n",
    "\n",
    "Output: [1,2,2,3,5,6]"
   ]
  },
  {
   "cell_type": "code",
   "execution_count": 30,
   "id": "92ff29e9",
   "metadata": {},
   "outputs": [
    {
     "data": {
      "text/plain": [
       "[1, 2, 2, 3, 5, 6]"
      ]
     },
     "execution_count": 30,
     "metadata": {},
     "output_type": "execute_result"
    }
   ],
   "source": [
    "def merge(nums1, m, nums2, n):\n",
    "    # nums1에서 비어있는 자리 수 빼기\n",
    "    nums1[:] = nums1[:m]\n",
    "    \n",
    "    # merge sort 시행\n",
    "    result = list()\n",
    "    l=h=0\n",
    "    while l < m and h < n:\n",
    "        if nums1[l] < nums2[h]:\n",
    "            result.append(nums1[l])\n",
    "            l += 1\n",
    "        else:\n",
    "            result.append(nums2[h])\n",
    "            h += 1\n",
    "    result += nums1[l:]\n",
    "    result += nums2[h:]\n",
    "    \n",
    "    nums1[:] = result\n",
    "    return nums1\n",
    "\n",
    "merge([1,2,3,0,0,0], 3, [2,5,6], 3)"
   ]
  },
  {
   "cell_type": "code",
   "execution_count": 31,
   "id": "511f8dac",
   "metadata": {},
   "outputs": [
    {
     "data": {
      "text/plain": [
       "[1]"
      ]
     },
     "execution_count": 31,
     "metadata": {},
     "output_type": "execute_result"
    }
   ],
   "source": [
    "merge([1],1,[],0)"
   ]
  },
  {
   "cell_type": "markdown",
   "id": "cf0a06cf",
   "metadata": {},
   "source": [
    "### Remove Element\n",
    "- Given an integer array nums and an integer val, remove all occurrences of val in nums in-place. The relative order of the elements may be changed.\n",
    "\n",
    "- Since it is impossible to change the length of the array in some languages, you must instead have the result be placed in the first part of the array nums. More formally, if there are k elements after removing the duplicates, then the first k elements of nums should hold the final result. It does not matter what you leave beyond the first k elements.\n",
    "\n",
    "- Return k after placing the final result in the first k slots of nums.\n",
    "\n",
    "- Do not allocate extra space for another array. You must do this by modifying the input array in-place with O(1) extra memory.\n",
    "\n",
    "- 주어진 배열에 대해서, 숫자 val 를 제거하고 남은 숫자 개수를 반환\n",
    "\n",
    "- Example\n",
    "~~~python\n",
    "Input: nums = [3,2,2,3], val = 3\n",
    "Output: 2, nums = [2,2,_,_]\n",
    "    ~~~"
   ]
  },
  {
   "cell_type": "code",
   "execution_count": 42,
   "id": "0f65114f",
   "metadata": {},
   "outputs": [
    {
     "data": {
      "text/plain": [
       "2"
      ]
     },
     "execution_count": 42,
     "metadata": {},
     "output_type": "execute_result"
    }
   ],
   "source": [
    "def removeElement(nums, val):\n",
    "    while nums.count(val) != 0:\n",
    "        nums.remove(val)\n",
    "    return len(nums)\n",
    "    \n",
    "removeElement([3,2,2,3], 3)"
   ]
  },
  {
   "cell_type": "code",
   "execution_count": 43,
   "id": "c99f4434",
   "metadata": {
    "scrolled": true
   },
   "outputs": [
    {
     "data": {
      "text/plain": [
       "5"
      ]
     },
     "execution_count": 43,
     "metadata": {},
     "output_type": "execute_result"
    }
   ],
   "source": [
    "removeElement([0,1,2,2,3,0,4,2], 2)"
   ]
  },
  {
   "cell_type": "markdown",
   "id": "d20b1bc3",
   "metadata": {},
   "source": [
    "### Remove Duplicates from Sorted Array\n",
    "- Given an integer array nums sorted in non-decreasing order, remove the duplicates in-place such that each unique element appears only once. The relative order of the elements should be kept the same.\n",
    "\n",
    "- Since it is impossible to change the length of the array in some languages, you must instead have the result be placed in the first part of the array nums. More formally, if there are k elements after removing the duplicates, then the first k elements of nums should hold the final result. It does not matter what you leave beyond the first k elements.\n",
    "\n",
    "- Return k after placing the final result in the first k slots of nums.\n",
    "\n",
    "- Do not allocate extra space for another array. You must do this by modifying the input array in-place with O(1) extra memory.\n",
    "- 주어진 오름차순 정수 배열에 대하여, 중복된 수를 제거하여라. 그 후, 배열 길이 반환\n",
    "- Example\n",
    "```python\n",
    "Input: nums = [0,0,1,1,1,2,2,3,3,4]\n",
    "Output: 5, nums = [0,1,2,3,4,_,_,_,_,_]\n",
    "    ```"
   ]
  },
  {
   "cell_type": "code",
   "execution_count": 47,
   "id": "51b2cb80",
   "metadata": {},
   "outputs": [
    {
     "data": {
      "text/plain": [
       "5"
      ]
     },
     "execution_count": 47,
     "metadata": {},
     "output_type": "execute_result"
    }
   ],
   "source": [
    "def removeDuplicates(nums):\n",
    "    nums[:] = list(set(nums))\n",
    "    nums.sort()\n",
    "    return len(nums)\n",
    "\n",
    "removeDuplicates([0,0,1,1,1,2,2,3,3,4])"
   ]
  },
  {
   "cell_type": "code",
   "execution_count": 49,
   "id": "d32cc058",
   "metadata": {},
   "outputs": [
    {
     "data": {
      "text/plain": [
       "5"
      ]
     },
     "execution_count": 49,
     "metadata": {},
     "output_type": "execute_result"
    }
   ],
   "source": [
    "def removeDuplicates2(nums):\n",
    "    result = list()\n",
    "    \n",
    "    for n in nums:\n",
    "        if result.count(n) == 0:\n",
    "            result.append(n)\n",
    "        \n",
    "    nums[:] = result\n",
    "    return len(nums)\n",
    "\n",
    "removeDuplicates2([0,0,1,1,1,2,2,3,3,4])"
   ]
  }
 ],
 "metadata": {
  "kernelspec": {
   "display_name": "Python 3 (ipykernel)",
   "language": "python",
   "name": "python3"
  },
  "language_info": {
   "codemirror_mode": {
    "name": "ipython",
    "version": 3
   },
   "file_extension": ".py",
   "mimetype": "text/x-python",
   "name": "python",
   "nbconvert_exporter": "python",
   "pygments_lexer": "ipython3",
   "version": "3.9.7"
  }
 },
 "nbformat": 4,
 "nbformat_minor": 5
}
