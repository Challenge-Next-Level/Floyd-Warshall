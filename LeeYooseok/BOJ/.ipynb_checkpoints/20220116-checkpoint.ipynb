{
 "cells": [
  {
   "cell_type": "markdown",
   "id": "d1572db9",
   "metadata": {},
   "source": [
    "### 10974, 모든 순열\n",
    "**문제**\n",
    "- N이 주어졌을 때, 1부터 N까지의 수로 이루어진 순열을 사전순으로 출력하는 프로그램을 작성하시오.\n",
    "\n",
    "**입력**\n",
    "- 첫째 줄에 N(1 ≤ N ≤ 8)이 주어진다. \n",
    "\n",
    "**출력**\n",
    "- 첫째 줄부터 N!개의 줄에 걸쳐서 모든 순열을 사전순으로 출력한다."
   ]
  },
  {
   "cell_type": "markdown",
   "id": "905ea448",
   "metadata": {},
   "source": [
    "**아이디어**\n",
    "- itertools의 permutations 사용"
   ]
  },
  {
   "cell_type": "code",
   "execution_count": 5,
   "id": "ba845713",
   "metadata": {},
   "outputs": [
    {
     "name": "stdout",
     "output_type": "stream",
     "text": [
      "3\n",
      "1 2 3 \n",
      "1 3 2 \n",
      "2 1 3 \n",
      "2 3 1 \n",
      "3 1 2 \n",
      "3 2 1 \n"
     ]
    }
   ],
   "source": [
    "import itertools\n",
    "\n",
    "n = int(input())\n",
    "\n",
    "nums = [i+1 for i in range(n)]\n",
    "\n",
    "for perm in itertools.permutations(nums):\n",
    "    for i in perm:\n",
    "        print(i, end = \" \")\n",
    "    print()"
   ]
  },
  {
   "cell_type": "markdown",
   "id": "2f7ef983",
   "metadata": {},
   "source": [
    "**아이디어**\n",
    "- 재귀를 사용"
   ]
  },
  {
   "cell_type": "code",
   "execution_count": 7,
   "id": "1b72fc6f",
   "metadata": {},
   "outputs": [
    {
     "name": "stdout",
     "output_type": "stream",
     "text": [
      "3\n",
      "1 2 3 \n",
      "1 3 2 \n",
      "2 1 3 \n",
      "2 3 1 \n",
      "3 1 2 \n",
      "3 2 1 \n"
     ]
    }
   ],
   "source": [
    "def permutations(start, end = []):\n",
    "    if len(start) == 0:\n",
    "        for i in end:\n",
    "            print(i, end = \" \")\n",
    "        print()\n",
    "    else :\n",
    "        for i in range(len(start)):\n",
    "            permutations(start[:i] + start[i+1:], end + start[i:i+1])\n",
    "            \n",
    "n = int(input())\n",
    "nums = [i+1 for i in range(n)]\n",
    "\n",
    "permutations(nums)"
   ]
  },
  {
   "cell_type": "markdown",
   "id": "8709d414",
   "metadata": {},
   "source": [
    "### 2503, 숫자 야구\n",
    "\n",
    "**문제**\n",
    "- 정보문화진흥원 정보 영재 동아리에서 동아리 활동을 하던 영수와 민혁이는 쉬는 시간을 틈타 숫자야구 게임을 하기로 했다.\n",
    "\n",
    "    - 영수는 1에서 9까지의 서로 다른 숫자 세 개로 구성된 세 자리 수를 마음속으로 생각한다. (예: 324)\n",
    "    - 민혁이는 1에서 9까지의 서로 다른 숫자 세 개로 구성된 세 자리 수를 영수에게 묻는다. (예: 123)\n",
    "    - 민혁이가 말한 세 자리 수에 있는 숫자들 중 하나가 영수의 세 자리 수의 동일한 자리에 위치하면 스트라이크 한 번으로 센다. 숫자가 영수의 세 자리 수에 있긴 하나 다른 자리에 위치하면 볼 한 번으로 센다.\n",
    "\n",
    "- 예) 영수가 324를 갖고 있으면 \n",
    "\n",
    "    - 429는 1 스트라이크 1 볼이다.\n",
    "    - 241은 0 스트라이크 2 볼이다.\n",
    "    - 924는 2 스트라이크 0 볼이다.\n",
    "    - 영수는 민혁이가 말한 수가 몇 스트라이크 몇 볼인지를 답해준다.\n",
    "    - 민혁이가 영수의 세 자리 수를 정확하게 맞추어 3 스트라이크가 되면 게임이 끝난다. 아니라면 민혁이는 새로운 수를 생각해 다시 영수에게 묻는다.\n",
    "- 현재 민혁이와 영수는 게임을 하고 있는 도중에 있다. 민혁이가 영수에게 어떤 수들을 물어보았는지, 그리고 각각의 물음에 영수가 어떤 대답을 했는지가 입력으로 주어진다. 이 입력을 바탕으로 여러분은 영수가 생각하고 있을 가능성이 있는 수가 총 몇 개인지를 알아맞혀야 한다.\n",
    "\n",
    "- 아래와 같은 경우를 생각해보자.  \n",
    "\n",
    "    - 민혁: 123\n",
    "    - 영수: 1 스트라이크 1 볼.\n",
    "    - 민혁: 356\n",
    "    - 영수: 1 스트라이크 0 볼.\n",
    "    - 민혁: 327\n",
    "    - 영수: 2 스트라이크 0 볼.\n",
    "    - 민혁: 489\n",
    "    - 영수: 0 스트라이크 1 볼.\n",
    "- 이때 가능한 답은 324와 328, 이렇게 두 가지이다.\n",
    "\n",
    "- 영수는 동아리의 규율을 잘 따르는 착한 아이라 민혁이의 물음에 곧이곧대로 정직하게 답한다. 그러므로 영수의 답들에는 모순이 없다.\n",
    "\n",
    "- 민혁이의 물음들과 각각의 물음에 대한 영수의 답이 입력으로 주어질 때 영수가 생각하고 있을 가능성이 있는 답의 총 개수를 출력하는 프로그램을 작성하시오.\n",
    "\n",
    "**입력**\n",
    "- 첫째 줄에는 민혁이가 영수에게 몇 번이나 질문을 했는지를 나타내는 1 이상 100 이하의 자연수 N이 주어진다. 이어지는 N개의 줄에는 각 줄마다 민혁이가 질문한 세 자리 수와 영수가 답한 스트라이크 개수를 나타내는 정수와 볼의 개수를 나타내는 정수, 이렇게 총 세 개의 정수가 빈칸을 사이에 두고 주어진다.\n",
    "\n",
    "**출력**\n",
    "- 첫 줄에 영수가 생각하고 있을 가능성이 있는 답의 총 개수를 출력한다."
   ]
  },
  {
   "cell_type": "markdown",
   "id": "7316da2f",
   "metadata": {},
   "source": [
    "**아이디어**\n",
    "- 모든 세 자릿수 리스트 생성 (111 ~ 999)\n",
    "- 주어진 경우에 부합하지 않는 수 제거"
   ]
  },
  {
   "cell_type": "code",
   "execution_count": 9,
   "id": "daa53c01",
   "metadata": {},
   "outputs": [
    {
     "name": "stdout",
     "output_type": "stream",
     "text": [
      "4\n",
      "123 1 1\n",
      "356 1 0\n",
      "327 2 0\n",
      "489 0 1\n",
      "[328, 324]\n"
     ]
    }
   ],
   "source": [
    "nums = list()\n",
    "\n",
    "for i in range(1,10):\n",
    "    for j in range(1,10):\n",
    "        for k in range(1,10):\n",
    "            if i != j and j != k and k != i:\n",
    "                nums.append(100*i + 10*j + k)\n",
    "            \n",
    "n = int(input())\n",
    "\n",
    "for _ in range(n):\n",
    "    \n",
    "    remove = list()\n",
    "    num, s, b = map(int, input().split())\n",
    "    for n in nums:\n",
    "        strike = 0\n",
    "        ball = 0\n",
    "        \n",
    "        # 첫번째 수 검사\n",
    "        if str(num)[0] == str(n)[0]:\n",
    "            strike += 1\n",
    "        elif str(num)[0] == str(n)[1] or str(num)[0] == str(n)[2]:\n",
    "            ball += 1\n",
    "        \n",
    "        # 두번째 수 검사\n",
    "        if str(num)[1] == str(n)[1]:\n",
    "            strike += 1\n",
    "        elif str(num)[1] == str(n)[0] or str(num)[1] == str(n)[2]:\n",
    "            ball += 1\n",
    "    \n",
    "        # 세번째 수 검사\n",
    "        if str(num)[2] == str(n)[2]:\n",
    "            strike += 1\n",
    "        elif str(num)[2] == str(n)[0] or str(num)[2] == str(n)[1]:\n",
    "            ball += 1\n",
    "        \n",
    "        if s != strike or b != ball:\n",
    "            remove.append(n)\n",
    "        \n",
    "    nums = list(set(nums) - set(remove))\n",
    "    \n",
    "print(len(nums))"
   ]
  },
  {
   "cell_type": "markdown",
   "id": "8a02e0e2",
   "metadata": {},
   "source": [
    "### 2529, 부등호\n",
    "\n",
    "**문제**\n",
    "- 두 종류의 부등호 기호 ‘<’와 ‘>’가 k개 나열된 순서열 A가 있다. 우리는 이 부등호 기호 앞뒤에 서로 다른 한 자릿수 숫자를 넣어서 모든 부등호 관계를 만족시키려고 한다. 예를 들어, 제시된 부등호 순서열 A가 다음과 같다고 하자. \n",
    "\n",
    "```A ⇒ < < < > < < > < >```\n",
    "\n",
    "- 부등호 기호 앞뒤에 넣을 수 있는 숫자는 0부터 9까지의 정수이며 선택된 숫자는 모두 달라야 한다. 아래는 부등호 순서열 A를 만족시키는 한 예이다. \n",
    "\n",
    "```3 < 4 < 5 < 6 > 1 < 2 < 8 > 7 < 9 > 0```\n",
    "\n",
    "- 이 상황에서 부등호 기호를 제거한 뒤, 숫자를 모두 붙이면 하나의 수를 만들 수 있는데 이 수를 주어진 부등호 관계를 만족시키는 정수라고 한다. 그런데 주어진 부등호 관계를 만족하는 정수는 하나 이상 존재한다. 예를 들어 3456128790 뿐만 아니라 5689023174도 아래와 같이 부등호 관계 A를 만족시킨다. \n",
    "\n",
    "```5 < 6 < 8 < 9 > 0 < 2 < 3 > 1 < 7 > 4```\n",
    "\n",
    "- 여러분은 제시된 k개의 부등호 순서를 만족하는 (k+1)자리의 정수 중에서 최댓값과 최솟값을 찾아야 한다. 앞서 설명한 대로 각 부등호의 앞뒤에 들어가는 숫자는 { 0, 1, 2, 3, 4, 5, 6, 7, 8, 9 }중에서 선택해야 하며 선택된 숫자는 모두 달라야 한다. \n",
    "\n",
    "**입력**\n",
    "- 첫 줄에 부등호 문자의 개수를 나타내는 정수 k가 주어진다. 그 다음 줄에는 k개의 부등호 기호가 하나의 공백을 두고 한 줄에 모두 제시된다. k의 범위는 2 ≤ k ≤ 9 이다. \n",
    "\n",
    "**출력**\n",
    "- 여러분은 제시된 부등호 관계를 만족하는 k+1 자리의 최대, 최소 정수를 첫째 줄과 둘째 줄에 각각 출력해야 한다. 단 아래 예(1)과 같이 첫 자리가 0인 경우도 정수에 포함되어야 한다. 모든 입력에 답은 항상 존재하며 출력 정수는 하나의 문자열이 되도록 해야 한다. "
   ]
  },
  {
   "cell_type": "code",
   "execution_count": 1,
   "id": "e297d113",
   "metadata": {},
   "outputs": [
    {
     "name": "stdout",
     "output_type": "stream",
     "text": [
      "2\n",
      "< >\n",
      "897\n",
      "021\n"
     ]
    }
   ],
   "source": [
    "# 재귀가 곁들어진 완전탐색 문제... 하 어렵네ㅎ\n",
    "k = int(input())\n",
    "oper = input().split()\n",
    "min_ans, max_ans = \"\", \"\"\n",
    "visit = [0] * 10\n",
    "\n",
    "\n",
    "def check(a, b, op):\n",
    "    if op == '<':\n",
    "        return a < b\n",
    "    else:\n",
    "        return a > b\n",
    "\n",
    "\n",
    "def solve(length, answer):\n",
    "    if length == k + 1: # 정답의 조건(길이를 만족하면 됨)\n",
    "        global min_ans, max_ans\n",
    "        if min_ans == \"\":\n",
    "            min_ans = answer\n",
    "        else:\n",
    "            max_ans = answer\n",
    "        return\n",
    "\n",
    "    for i in range(10): # 0~9 까지의 숫자에 대한 경우의 수 체크\n",
    "        if visit[i] == 0: # 방문하지 않은 숫자를 본다\n",
    "            # 1. 첫 번째 숫자는 집어 넣고 본다\n",
    "            # 2. 그외는 앞에 숫자와 비교 조건을 만족해야 한다\n",
    "            if length == 0 or check(answer[-1], str(i), oper[length - 1]):\n",
    "                visit[i] = 1\n",
    "                solve(length + 1, answer + str(i))\n",
    "                visit[i] = 0 # 방문 체크 해제도 중요하다\n",
    "\n",
    "\n",
    "solve(0, \"\")\n",
    "print(max_ans)\n",
    "print(min_ans)"
   ]
  },
  {
   "cell_type": "markdown",
   "id": "17eea75d",
   "metadata": {},
   "source": [
    "### 1120, 문자열\n",
    "\n",
    "**문제**\n",
    "- 길이가 N으로 같은 문자열 X와 Y가 있을 때, 두 문자열 X와 Y의 차이는 X[i] ≠ Y[i]인 i의 개수이다. 예를 들어, X=”jimin”, Y=”minji”이면, 둘의 차이는 4이다.\n",
    "\n",
    "- 두 문자열 A와 B가 주어진다. 이때, A의 길이는 B의 길이보다 작거나 같다. 이제 A의 길이가 B의 길이와 같아질 때 까지 다음과 같은 연산을 할 수 있다.\n",
    "\n",
    "    - A의 앞에 아무 알파벳이나 추가한다.\n",
    "    - A의 뒤에 아무 알파벳이나 추가한다.\n",
    "- 이때, A와 B의 길이가 같으면서, A와 B의 차이를 최소로 하는 프로그램을 작성하시오.\n",
    "\n",
    "**입력**\n",
    "- 첫째 줄에 A와 B가 주어진다. A와 B의 길이는 최대 50이고, A의 길이는 B의 길이보다 작거나 같고, 알파벳 소문자로만 이루어져 있다.\n",
    "\n",
    "**출력**\n",
    "- A와 B의 길이가 같으면서, A와 B의 차이를 최소가 되도록 했을 때, 그 차이를 출력하시오."
   ]
  },
  {
   "cell_type": "code",
   "execution_count": 3,
   "id": "0ee60de5",
   "metadata": {},
   "outputs": [
    {
     "name": "stdout",
     "output_type": "stream",
     "text": [
      "adaabc aababbc\n",
      "2\n"
     ]
    }
   ],
   "source": [
    "X, Y = input().split()\n",
    "\n",
    "len_diff = len(Y) - len(X)\n",
    "min_diff = float('inf') # 차이의 최솟값을 저장할 곳\n",
    "for i in range(len_diff + 1): # b문자열에서 a문자열 길이만큼의 구만마다 문자열을 잘라 비교를 한다\n",
    "    slice_Y = Y[i:i + len(X)]\n",
    "    count = 0\n",
    "    for j in range(len(X)):\n",
    "        if X[j] != slice_Y[j]:\n",
    "            count += 1\n",
    "    min_diff = min(min_diff, count)\n",
    "print(min_diff)\n"
   ]
  }
 ],
 "metadata": {
  "kernelspec": {
   "display_name": "Python 3 (ipykernel)",
   "language": "python",
   "name": "python3"
  },
  "language_info": {
   "codemirror_mode": {
    "name": "ipython",
    "version": 3
   },
   "file_extension": ".py",
   "mimetype": "text/x-python",
   "name": "python",
   "nbconvert_exporter": "python",
   "pygments_lexer": "ipython3",
   "version": "3.9.7"
  }
 },
 "nbformat": 4,
 "nbformat_minor": 5
}
